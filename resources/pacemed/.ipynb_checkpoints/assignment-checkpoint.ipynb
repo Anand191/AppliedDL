{
 "cells": [
  {
   "cell_type": "code",
   "execution_count": 1,
   "metadata": {
    "collapsed": true
   },
   "outputs": [],
   "source": [
    "import pandas as pd\n",
    "import numpy as np\n",
    "import matplotlib.pyplot as plt\n",
    "import gc\n",
    "from scipy import stats\n",
    "from imblearn.over_sampling import SMOTE\n",
    "#import the data and remove extra index columns\n",
    "admision= pd.read_csv('admission.csv', delimiter= ';')\n",
    "admision= admision.drop(['Unnamed: 0'], axis=1)\n",
    "datasignal = pd.read_csv('signal.csv', delimiter= ';')\n",
    "datasignal= datasignal.drop(['Unnamed: 0', 'Unnamed: 0.1'], axis=1)\n",
    "age=pd.read_csv('age.csv', delimiter= ';')\n",
    "age= age.drop(['Unnamed: 0'], axis=1)"
   ]
  },
  {
   "cell_type": "code",
   "execution_count": 2,
   "metadata": {
    "collapsed": true
   },
   "outputs": [],
   "source": [
    "#The 3 signal parameters are all in the same column and their values are in a values column. We make 3 different columns for the\n",
    "# 3 parameters.\n",
    "datasignal.pivot(index=None, columns='parameter', values='value')\n",
    "data=pd.merge(datasignal, datasignal.pivot(index=None, columns='parameter', values='value'), left_index= True, right_index= True)\n",
    "data= data.drop(['parameter', 'value'], axis=1) #drop the original columns"
   ]
  },
  {
   "cell_type": "code",
   "execution_count": 3,
   "metadata": {
    "collapsed": true
   },
   "outputs": [],
   "source": [
    "# remove outliers. Everything that is above 3 starndard deviations from the column mean.\n",
    "\n",
    "means= data['respiration_rate'].mean()\n",
    "stds= data['respiration_rate'].std()\n",
    "\n",
    "data['respiration_rate']= data['respiration_rate'].where(np.abs((data['respiration_rate']-means)/stds)<3, np.NaN)\n",
    "means= data['blood_pressure'].mean()\n",
    "stds= data['blood_pressure'].std()\n",
    "\n",
    "data['blood_pressure']= data['blood_pressure'].where(np.abs((data['blood_pressure']-means)/stds)<3, np.NaN)\n",
    "\n",
    "means= data['temperature'].mean()\n",
    "stds= data['temperature'].std()\n",
    "\n",
    "data['temperature']= data['temperature'].where(np.abs((data['temperature']-means)/stds)<3, np.NaN)"
   ]
  },
  {
   "cell_type": "code",
   "execution_count": 4,
   "metadata": {},
   "outputs": [],
   "source": [
    "data= data.dropna(axis=0, how='all') #remove rows that have no measurements"
   ]
  },
  {
   "cell_type": "code",
   "execution_count": 5,
   "metadata": {
    "collapsed": true
   },
   "outputs": [],
   "source": [
    "df_data = pd.DataFrame(data.groupby(['pat_id','day'])['blood_pressure','respiration_rate','temperature'].mean())\n",
    "df_data.columns = ['blood_pressure_mean','respiration_rate_mean','temperature_mean']\n",
    "df_data.reset_index(drop=False,inplace=True)\n"
   ]
  },
  {
   "cell_type": "code",
   "execution_count": 6,
   "metadata": {
    "collapsed": true
   },
   "outputs": [],
   "source": [
    "df_data2 = pd.DataFrame(data.groupby(['pat_id','day'])['blood_pressure','respiration_rate','temperature'].std())\n",
    "df_data2.columns = ['blood_pressure_std','respiration_rate_std','temperature_std']\n",
    "df_data2.reset_index(drop=False,inplace=True)"
   ]
  },
  {
   "cell_type": "code",
   "execution_count": 7,
   "metadata": {
    "collapsed": true
   },
   "outputs": [],
   "source": [
    "df_data3 = pd.DataFrame(data.groupby(['pat_id','day'])['blood_pressure','respiration_rate','temperature'].max())\n",
    "df_data3.columns = ['blood_pressure_max','respiration_rate_max','temperature_max']\n",
    "df_data3.reset_index(drop=False,inplace=True)"
   ]
  },
  {
   "cell_type": "code",
   "execution_count": 7,
   "metadata": {
    "collapsed": true
   },
   "outputs": [],
   "source": [
    "#df_data4 = pd.DataFrame(data.groupby(['pat_id','day'])['blood_pressure','respiration_rate','temperature'].min())\n",
    "#df_data4.columns = ['blood_pressure_min','respiration_rate_min','temperature_min']\n",
    "#df_data4.reset_index(drop=False,inplace=True)"
   ]
  },
  {
   "cell_type": "code",
   "execution_count": 9,
   "metadata": {},
   "outputs": [
    {
     "ename": "NameError",
     "evalue": "name 'df_data' is not defined",
     "output_type": "error",
     "traceback": [
      "\u001b[1;31m---------------------------------------------------------------------------\u001b[0m",
      "\u001b[1;31mNameError\u001b[0m                                 Traceback (most recent call last)",
      "\u001b[1;32m<ipython-input-9-5535ef8947ee>\u001b[0m in \u001b[0;36m<module>\u001b[1;34m()\u001b[0m\n\u001b[1;32m----> 1\u001b[1;33m \u001b[0mdata\u001b[0m\u001b[1;33m=\u001b[0m\u001b[0mpd\u001b[0m\u001b[1;33m.\u001b[0m\u001b[0mmerge\u001b[0m\u001b[1;33m(\u001b[0m\u001b[0mdf_data\u001b[0m\u001b[1;33m,\u001b[0m \u001b[0mdf_data2\u001b[0m\u001b[1;33m,\u001b[0m \u001b[0mon\u001b[0m\u001b[1;33m=\u001b[0m\u001b[1;33m[\u001b[0m\u001b[1;34m'pat_id'\u001b[0m\u001b[1;33m,\u001b[0m\u001b[1;34m'day'\u001b[0m\u001b[1;33m]\u001b[0m\u001b[1;33m)\u001b[0m\u001b[1;33m\u001b[0m\u001b[0m\n\u001b[0m\u001b[0;32m      2\u001b[0m \u001b[0mdata\u001b[0m\u001b[1;33m=\u001b[0m\u001b[0mpd\u001b[0m\u001b[1;33m.\u001b[0m\u001b[0mmerge\u001b[0m\u001b[1;33m(\u001b[0m\u001b[0mdata\u001b[0m\u001b[1;33m,\u001b[0m \u001b[0mdf_data3\u001b[0m\u001b[1;33m,\u001b[0m \u001b[0mon\u001b[0m\u001b[1;33m=\u001b[0m\u001b[1;33m[\u001b[0m\u001b[1;34m'pat_id'\u001b[0m\u001b[1;33m,\u001b[0m\u001b[1;34m'day'\u001b[0m\u001b[1;33m]\u001b[0m\u001b[1;33m)\u001b[0m\u001b[1;33m\u001b[0m\u001b[0m\n\u001b[0;32m      3\u001b[0m \u001b[1;31m#data=pd.merge(data, df_data4, on=['pat_id','day'])\u001b[0m\u001b[1;33m\u001b[0m\u001b[1;33m\u001b[0m\u001b[0m\n\u001b[0;32m      4\u001b[0m \u001b[0mdata\u001b[0m\u001b[1;33m[\u001b[0m\u001b[1;34m'day'\u001b[0m\u001b[1;33m]\u001b[0m\u001b[1;33m=\u001b[0m \u001b[0mpd\u001b[0m\u001b[1;33m.\u001b[0m\u001b[0mto_datetime\u001b[0m\u001b[1;33m(\u001b[0m\u001b[0mdata\u001b[0m\u001b[1;33m[\u001b[0m\u001b[1;34m'day'\u001b[0m\u001b[1;33m]\u001b[0m\u001b[1;33m)\u001b[0m\u001b[1;33m\u001b[0m\u001b[0m\n\u001b[0;32m      5\u001b[0m \u001b[1;31m#del [df_data, df_data4,df_data3,df_data2]\u001b[0m\u001b[1;33m\u001b[0m\u001b[1;33m\u001b[0m\u001b[0m\n",
      "\u001b[1;31mNameError\u001b[0m: name 'df_data' is not defined"
     ]
    }
   ],
   "source": [
    "data=pd.merge(df_data, df_data2, on=['pat_id','day'])\n",
    "data=pd.merge(data, df_data3, on=['pat_id','day'])\n",
    "#data=pd.merge(data, df_data4, on=['pat_id','day'])\n",
    "data['day']= pd.to_datetime(data['day'])\n",
    "#del [df_data, df_data4,df_data3,df_data2]\n",
    "del [df_data, df_data3,df_data2]\n",
    "gc.collect()"
   ]
  },
  {
   "cell_type": "code",
   "execution_count": 11,
   "metadata": {},
   "outputs": [],
   "source": [
    "#data['respiration_rate_min']=data['respiration_rate_min'].where(data['respiration_rate_min']>1, np.NaN)\n",
    "data['respiration_rate_max']=data['respiration_rate_max'].where(data['respiration_rate_max']>1, np.NaN)\n",
    "data['respiration_rate_mean']=data['respiration_rate_std'].where(data['respiration_rate_std']>0, np.NaN)\n",
    "data['respiration_rate_mean']=data['respiration_rate_mean'].where(data['respiration_rate_mean']>1, np.NaN)"
   ]
  },
  {
   "cell_type": "code",
   "execution_count": 12,
   "metadata": {},
   "outputs": [
    {
     "data": {
      "text/plain": [
       "pat_id                      0\n",
       "day                         0\n",
       "blood_pressure_mean       272\n",
       "respiration_rate_mean    2698\n",
       "temperature_mean         1886\n",
       "blood_pressure_std        317\n",
       "respiration_rate_std     1287\n",
       "temperature_std          2720\n",
       "blood_pressure_max        272\n",
       "respiration_rate_max     1171\n",
       "temperature_max          1886\n",
       "dtype: int64"
      ]
     },
     "execution_count": 12,
     "metadata": {},
     "output_type": "execute_result"
    }
   ],
   "source": [
    "data.isnull().sum()"
   ]
  },
  {
   "cell_type": "code",
   "execution_count": 13,
   "metadata": {
    "collapsed": true
   },
   "outputs": [],
   "source": [
    "#data= data.fillna(data.mean())\n",
    "\n",
    "data= data.fillna(0)"
   ]
  },
  {
   "cell_type": "code",
   "execution_count": 12,
   "metadata": {
    "collapsed": true
   },
   "outputs": [],
   "source": [
    "#shift the data features to add the vitals of the previous day\n",
    "data[['blood_pressure_mean-', 'respiration_rate_mean-',\n",
    "       'temperature_mean-', 'blood_pressure_std-', 'respiration_rate_std-',\n",
    "       'temperature_std-', 'blood_pressure_max-', 'respiration_rate_max-',\n",
    "       'temperature_max-', 'blood_pressure_min-', 'respiration_rate_min-',\n",
    "       'temperature_min-']]= data[['blood_pressure_mean', 'respiration_rate_mean',\n",
    "       'temperature_mean', 'blood_pressure_std', 'respiration_rate_std',\n",
    "       'temperature_std', 'blood_pressure_max', 'respiration_rate_max',\n",
    "       'temperature_max', 'blood_pressure_min', 'respiration_rate_min',\n",
    "       'temperature_min']].shift(1)\n",
    "\n",
    "# remove shifted values that come from different patient ids\n",
    "data.loc[data.pat_id != data.pat_id.shift(1), ['blood_pressure_mean-', 'respiration_rate_mean-',\n",
    "       'temperature_mean-', 'blood_pressure_std-', 'respiration_rate_std-',\n",
    "       'temperature_std-', 'blood_pressure_max-', 'respiration_rate_max-',\n",
    "       'temperature_max-', 'blood_pressure_min-', 'respiration_rate_min-',\n",
    "       'temperature_min-']] = None"
   ]
  },
  {
   "cell_type": "code",
   "execution_count": 14,
   "metadata": {},
   "outputs": [
    {
     "data": {
      "text/html": [
       "<div>\n",
       "<style>\n",
       "    .dataframe thead tr:only-child th {\n",
       "        text-align: right;\n",
       "    }\n",
       "\n",
       "    .dataframe thead th {\n",
       "        text-align: left;\n",
       "    }\n",
       "\n",
       "    .dataframe tbody tr th {\n",
       "        vertical-align: top;\n",
       "    }\n",
       "</style>\n",
       "<table border=\"1\" class=\"dataframe\">\n",
       "  <thead>\n",
       "    <tr style=\"text-align: right;\">\n",
       "      <th></th>\n",
       "      <th>pat_id</th>\n",
       "      <th>day</th>\n",
       "      <th>label</th>\n",
       "    </tr>\n",
       "  </thead>\n",
       "  <tbody>\n",
       "    <tr>\n",
       "      <th>0</th>\n",
       "      <td>0</td>\n",
       "      <td>2016-01-07</td>\n",
       "      <td>0.0</td>\n",
       "    </tr>\n",
       "    <tr>\n",
       "      <th>1</th>\n",
       "      <td>1</td>\n",
       "      <td>2014-07-06</td>\n",
       "      <td>0.0</td>\n",
       "    </tr>\n",
       "    <tr>\n",
       "      <th>2</th>\n",
       "      <td>3</td>\n",
       "      <td>2014-10-20</td>\n",
       "      <td>0.0</td>\n",
       "    </tr>\n",
       "    <tr>\n",
       "      <th>3</th>\n",
       "      <td>4</td>\n",
       "      <td>2015-02-07</td>\n",
       "      <td>0.0</td>\n",
       "    </tr>\n",
       "    <tr>\n",
       "      <th>4</th>\n",
       "      <td>5</td>\n",
       "      <td>2014-12-08</td>\n",
       "      <td>0.0</td>\n",
       "    </tr>\n",
       "  </tbody>\n",
       "</table>\n",
       "</div>"
      ],
      "text/plain": [
       "   pat_id        day  label\n",
       "0       0 2016-01-07    0.0\n",
       "1       1 2014-07-06    0.0\n",
       "2       3 2014-10-20    0.0\n",
       "3       4 2015-02-07    0.0\n",
       "4       5 2014-12-08    0.0"
      ]
     },
     "execution_count": 14,
     "metadata": {},
     "output_type": "execute_result"
    }
   ],
   "source": [
    "#create labels of good and bad discharges from the admision file\n",
    "\n",
    "admision= pd.read_csv('admission.csv', delimiter= ';')\n",
    "admision= admision.drop(['Unnamed: 0'], axis=1)\n",
    "admision=admision.sort_values(by=['pat_id', 'date_admission'])\n",
    "admision.reset_index(drop=False,inplace=True)\n",
    "admision['date_discharge']= pd.to_datetime(admision['date_discharge'])\n",
    "admision['date_admission']= pd.to_datetime(admision['date_admission'])\n",
    "new_column= admision.groupby(['pat_id']).apply(lambda x: x['date_admission'].shift(-1)- x['date_discharge'])\n",
    "admision['diff'] = new_column.reset_index(level=0, drop=True)\n",
    "admision['diff']= admision['diff'].dt.days\n",
    "admision['diff']= admision['diff'].where(admision['diff']<10, np.NaN)\n",
    "admision['label']= admision['diff'].fillna(0)\n",
    "admision['label']= admision['label'].where(admision['label']< 1 , other= 1)\n",
    "admision= admision.drop(['date_admission', 'index', 'diff'], axis=1)\n",
    "admision= admision.rename(index=str, columns={\"date_discharge\": \"day\"})\n",
    "admision.head()"
   ]
  },
  {
   "cell_type": "code",
   "execution_count": 15,
   "metadata": {},
   "outputs": [
    {
     "data": {
      "text/html": [
       "<div>\n",
       "<style>\n",
       "    .dataframe thead tr:only-child th {\n",
       "        text-align: right;\n",
       "    }\n",
       "\n",
       "    .dataframe thead th {\n",
       "        text-align: left;\n",
       "    }\n",
       "\n",
       "    .dataframe tbody tr th {\n",
       "        vertical-align: top;\n",
       "    }\n",
       "</style>\n",
       "<table border=\"1\" class=\"dataframe\">\n",
       "  <thead>\n",
       "    <tr style=\"text-align: right;\">\n",
       "      <th></th>\n",
       "      <th>pat_id</th>\n",
       "      <th>day</th>\n",
       "      <th>blood_pressure_mean</th>\n",
       "      <th>respiration_rate_mean</th>\n",
       "      <th>temperature_mean</th>\n",
       "      <th>blood_pressure_std</th>\n",
       "      <th>respiration_rate_std</th>\n",
       "      <th>temperature_std</th>\n",
       "      <th>blood_pressure_max</th>\n",
       "      <th>respiration_rate_max</th>\n",
       "      <th>temperature_max</th>\n",
       "      <th>age</th>\n",
       "      <th>label</th>\n",
       "    </tr>\n",
       "  </thead>\n",
       "  <tbody>\n",
       "    <tr>\n",
       "      <th>0</th>\n",
       "      <td>0</td>\n",
       "      <td>2016-01-07</td>\n",
       "      <td>129.798553</td>\n",
       "      <td>0.000000</td>\n",
       "      <td>35.746152</td>\n",
       "      <td>4.752183</td>\n",
       "      <td>0.008944</td>\n",
       "      <td>0.358990</td>\n",
       "      <td>136.966170</td>\n",
       "      <td>2.01</td>\n",
       "      <td>35.999996</td>\n",
       "      <td>35.0</td>\n",
       "      <td>0.0</td>\n",
       "    </tr>\n",
       "    <tr>\n",
       "      <th>1</th>\n",
       "      <td>1</td>\n",
       "      <td>2014-07-06</td>\n",
       "      <td>132.951555</td>\n",
       "      <td>0.000000</td>\n",
       "      <td>37.772648</td>\n",
       "      <td>8.235665</td>\n",
       "      <td>0.000000</td>\n",
       "      <td>0.258115</td>\n",
       "      <td>144.900166</td>\n",
       "      <td>0.00</td>\n",
       "      <td>38.046153</td>\n",
       "      <td>77.0</td>\n",
       "      <td>0.0</td>\n",
       "    </tr>\n",
       "    <tr>\n",
       "      <th>2</th>\n",
       "      <td>3</td>\n",
       "      <td>2014-10-20</td>\n",
       "      <td>107.502751</td>\n",
       "      <td>1.432541</td>\n",
       "      <td>37.333332</td>\n",
       "      <td>10.852083</td>\n",
       "      <td>1.432541</td>\n",
       "      <td>0.000000</td>\n",
       "      <td>127.835003</td>\n",
       "      <td>8.00</td>\n",
       "      <td>37.333332</td>\n",
       "      <td>61.0</td>\n",
       "      <td>0.0</td>\n",
       "    </tr>\n",
       "    <tr>\n",
       "      <th>3</th>\n",
       "      <td>4</td>\n",
       "      <td>2015-02-07</td>\n",
       "      <td>120.313955</td>\n",
       "      <td>1.044508</td>\n",
       "      <td>0.000000</td>\n",
       "      <td>9.181572</td>\n",
       "      <td>1.044508</td>\n",
       "      <td>0.000000</td>\n",
       "      <td>138.566004</td>\n",
       "      <td>6.01</td>\n",
       "      <td>0.000000</td>\n",
       "      <td>27.0</td>\n",
       "      <td>0.0</td>\n",
       "    </tr>\n",
       "    <tr>\n",
       "      <th>4</th>\n",
       "      <td>5</td>\n",
       "      <td>2014-12-08</td>\n",
       "      <td>160.832146</td>\n",
       "      <td>1.038141</td>\n",
       "      <td>36.920515</td>\n",
       "      <td>28.838446</td>\n",
       "      <td>1.038141</td>\n",
       "      <td>0.003626</td>\n",
       "      <td>194.508832</td>\n",
       "      <td>10.01</td>\n",
       "      <td>36.923079</td>\n",
       "      <td>67.0</td>\n",
       "      <td>0.0</td>\n",
       "    </tr>\n",
       "  </tbody>\n",
       "</table>\n",
       "</div>"
      ],
      "text/plain": [
       "   pat_id        day  blood_pressure_mean  respiration_rate_mean  \\\n",
       "0       0 2016-01-07           129.798553               0.000000   \n",
       "1       1 2014-07-06           132.951555               0.000000   \n",
       "2       3 2014-10-20           107.502751               1.432541   \n",
       "3       4 2015-02-07           120.313955               1.044508   \n",
       "4       5 2014-12-08           160.832146               1.038141   \n",
       "\n",
       "   temperature_mean  blood_pressure_std  respiration_rate_std  \\\n",
       "0         35.746152            4.752183              0.008944   \n",
       "1         37.772648            8.235665              0.000000   \n",
       "2         37.333332           10.852083              1.432541   \n",
       "3          0.000000            9.181572              1.044508   \n",
       "4         36.920515           28.838446              1.038141   \n",
       "\n",
       "   temperature_std  blood_pressure_max  respiration_rate_max  temperature_max  \\\n",
       "0         0.358990          136.966170                  2.01        35.999996   \n",
       "1         0.258115          144.900166                  0.00        38.046153   \n",
       "2         0.000000          127.835003                  8.00        37.333332   \n",
       "3         0.000000          138.566004                  6.01         0.000000   \n",
       "4         0.003626          194.508832                 10.01        36.923079   \n",
       "\n",
       "    age  label  \n",
       "0  35.0    0.0  \n",
       "1  77.0    0.0  \n",
       "2  61.0    0.0  \n",
       "3  27.0    0.0  \n",
       "4  67.0    0.0  "
      ]
     },
     "execution_count": 15,
     "metadata": {},
     "output_type": "execute_result"
    }
   ],
   "source": [
    "#merge data\n",
    "data = pd.merge(data, age, on=['pat_id'])\n",
    "\n",
    "data = pd.merge(data, admision, on=['pat_id', 'day' ])\n",
    "data= data.fillna(data.mean())\n",
    "data.head()"
   ]
  },
  {
   "cell_type": "code",
   "execution_count": 16,
   "metadata": {},
   "outputs": [],
   "source": [
    "from sklearn.metrics import accuracy_score\n",
    "from sklearn.model_selection import train_test_split\n",
    "from sklearn import preprocessing\n",
    "from sklearn.ensemble import RandomForestClassifier,GradientBoostingClassifier\n",
    "from sklearn.model_selection import cross_val_score\n",
    "from sklearn.cluster import KMeans\n",
    "from sklearn.metrics import classification_report\n",
    "from sklearn.naive_bayes import GaussianNB\n",
    "from sklearn.linear_model import LogisticRegression"
   ]
  },
  {
   "cell_type": "code",
   "execution_count": 17,
   "metadata": {
    "collapsed": true
   },
   "outputs": [],
   "source": [
    "\n",
    "lb = preprocessing.LabelBinarizer()\n",
    "binary_labels=lb.fit_transform(data['label'])"
   ]
  },
  {
   "cell_type": "code",
   "execution_count": 18,
   "metadata": {},
   "outputs": [],
   "source": [
    "binary_labels.shape\n",
    "binary_labels=np.reshape(binary_labels,(1479,))"
   ]
  },
  {
   "cell_type": "code",
   "execution_count": 103,
   "metadata": {},
   "outputs": [],
   "source": [
    "data2= data.drop(['pat_id', 'day', 'label'], axis=1)\n",
    "from sklearn.model_selection import cross_val_predict\n",
    "from sklearn.metrics import confusion_matrix\n",
    "\n",
    "#X_train, X_test, y_train, y_test = train_test_split(data2[['blood_pressure_max', 'temperature_mean','respiration_rate_mean']], binary_labels, test_size=0.1)\n",
    "\n",
    "X_train, X_test, y_train, y_test = train_test_split(data2[['blood_pressure_max', 'temperature_mean','respiration_rate_mean']], binary_labels, test_size=0.0)"
   ]
  },
  {
   "cell_type": "code",
   "execution_count": 99,
   "metadata": {},
   "outputs": [],
   "source": [
    "smote = SMOTE(ratio='minority',random_state=0)\n",
    "X_train, y_train= smote.fit_sample(X_train, y_train)"
   ]
  },
  {
   "cell_type": "code",
   "execution_count": 100,
   "metadata": {},
   "outputs": [],
   "source": [
    "#rf= RandomForestClassifier(n_estimators=1000, max_depth=3, random_state=0)\n",
    "\n",
    "clf=GradientBoostingClassifier( learning_rate=0.01, n_estimators=1000, subsample=1.0, min_samples_split=2, min_samples_leaf=1, min_weight_fraction_leaf=0.0, max_depth=2, random_state=0) "
   ]
  },
  {
   "cell_type": "code",
   "execution_count": 101,
   "metadata": {},
   "outputs": [
    {
     "data": {
      "text/plain": [
       "array([ 0.360311  ,  0.26172835,  0.37796065])"
      ]
     },
     "execution_count": 101,
     "metadata": {},
     "output_type": "execute_result"
    }
   ],
   "source": [
    "\n",
    "y_pred = cross_val_predict(clf, X_train, y_train, cv=10)\n",
    "conf_mat = confusion_matrix(y, y_pred)"
   ]
  },
  {
   "cell_type": "code",
   "execution_count": 102,
   "metadata": {},
   "outputs": [
    {
     "name": "stdout",
     "output_type": "stream",
     "text": [
      "             precision    recall  f1-score   support\n",
      "\n",
      "          0       0.99      0.79      0.88       147\n",
      "          1       0.00      0.00      0.00         1\n",
      "\n",
      "avg / total       0.98      0.78      0.87       148\n",
      "\n"
     ]
    }
   ],
   "source": [
    "\n",
    "y_pred= rf.predict(X_test)\n",
    "print(classification_report(y_test, y_pred))"
   ]
  },
  {
   "cell_type": "code",
   "execution_count": 85,
   "metadata": {},
   "outputs": [
    {
     "data": {
      "text/plain": [
       "array([ 0.97014925,  0.97014925,  0.96240602,  0.97744361,  0.97744361,\n",
       "        0.96992481,  0.97744361,  0.96992481,  0.97744361,  0.97727273])"
      ]
     },
     "execution_count": 85,
     "metadata": {},
     "output_type": "execute_result"
    }
   ],
   "source": [
    "cross_val_score(rf, X_train, y_train, cv=10)\n",
    "\n",
    "#kmeans = KMeans(n_clusters=2, random_state=0, verbose=0, max_iter=3000)"
   ]
  },
  {
   "cell_type": "code",
   "execution_count": 86,
   "metadata": {},
   "outputs": [],
   "source": [
    "\n",
    "gnb = GaussianNB()"
   ]
  },
  {
   "cell_type": "code",
   "execution_count": 87,
   "metadata": {},
   "outputs": [],
   "source": [
    "gnb = gnb.fit(X_train, y_train)\n"
   ]
  },
  {
   "cell_type": "code",
   "execution_count": 88,
   "metadata": {},
   "outputs": [],
   "source": [
    "y_pred = gnb.predict(X_test)"
   ]
  },
  {
   "cell_type": "code",
   "execution_count": 89,
   "metadata": {},
   "outputs": [
    {
     "name": "stdout",
     "output_type": "stream",
     "text": [
      "             precision    recall  f1-score   support\n",
      "\n",
      "          0       0.99      1.00      0.99       146\n",
      "          1       0.00      0.00      0.00         2\n",
      "\n",
      "avg / total       0.97      0.99      0.98       148\n",
      "\n"
     ]
    },
    {
     "name": "stderr",
     "output_type": "stream",
     "text": [
      "C:\\Program Files\\Anaconda3\\lib\\site-packages\\sklearn\\metrics\\classification.py:1135: UndefinedMetricWarning: Precision and F-score are ill-defined and being set to 0.0 in labels with no predicted samples.\n",
      "  'precision', 'predicted', average, warn_for)\n"
     ]
    }
   ],
   "source": [
    "print(classification_report(y_test, y_pred))"
   ]
  },
  {
   "cell_type": "code",
   "execution_count": 90,
   "metadata": {},
   "outputs": [
    {
     "data": {
      "text/plain": [
       "array([ 0.97014925,  0.97014925,  0.97744361,  0.97744361,  0.97744361,\n",
       "        0.97744361,  0.97744361,  0.97744361,  0.97744361,  0.97727273])"
      ]
     },
     "execution_count": 90,
     "metadata": {},
     "output_type": "execute_result"
    }
   ],
   "source": [
    "cross_val_score(gnb, X_train, y_train, cv=10)"
   ]
  },
  {
   "cell_type": "code",
   "execution_count": 91,
   "metadata": {
    "collapsed": true
   },
   "outputs": [],
   "source": [
    "\n",
    "lf = LogisticRegression(random_state=0, solver='liblinear')#,class_weight ={0: 1, 1: 10})\n"
   ]
  },
  {
   "cell_type": "code",
   "execution_count": 92,
   "metadata": {},
   "outputs": [
    {
     "name": "stdout",
     "output_type": "stream",
     "text": [
      "             precision    recall  f1-score   support\n",
      "\n",
      "          0       0.99      1.00      0.99       146\n",
      "          1       0.00      0.00      0.00         2\n",
      "\n",
      "avg / total       0.97      0.99      0.98       148\n",
      "\n"
     ]
    },
    {
     "name": "stderr",
     "output_type": "stream",
     "text": [
      "C:\\Program Files\\Anaconda3\\lib\\site-packages\\sklearn\\metrics\\classification.py:1135: UndefinedMetricWarning: Precision and F-score are ill-defined and being set to 0.0 in labels with no predicted samples.\n",
      "  'precision', 'predicted', average, warn_for)\n"
     ]
    }
   ],
   "source": [
    "lf = lf.fit(X_train, y_train)\n",
    "\n",
    "y_pred = lf.predict(X_test)\n",
    "\n",
    "print(classification_report(y_test, y_pred))"
   ]
  },
  {
   "cell_type": "code",
   "execution_count": 93,
   "metadata": {},
   "outputs": [
    {
     "data": {
      "text/plain": [
       "array([ 0.97014925,  0.97014925,  0.97744361,  0.97744361,  0.97744361,\n",
       "        0.97744361,  0.97744361,  0.97744361,  0.97744361,  0.97727273])"
      ]
     },
     "execution_count": 93,
     "metadata": {},
     "output_type": "execute_result"
    }
   ],
   "source": [
    "cross_val_score(lf, X_train, y_train, cv=10)"
   ]
  },
  {
   "cell_type": "code",
   "execution_count": 94,
   "metadata": {},
   "outputs": [
    {
     "data": {
      "text/plain": [
       "array([ 0.28746794,  0.47006749,  0.24246457])"
      ]
     },
     "execution_count": 94,
     "metadata": {},
     "output_type": "execute_result"
    }
   ],
   "source": [
    "rf= RandomForestClassifier(n_estimators=1000, max_depth=2, random_state=0)\n",
    "\n",
    "rf = rf.fit(X_train, y_train)\n",
    "rf.feature_importances_"
   ]
  },
  {
   "cell_type": "code",
   "execution_count": 95,
   "metadata": {},
   "outputs": [
    {
     "name": "stdout",
     "output_type": "stream",
     "text": [
      "             precision    recall  f1-score   support\n",
      "\n",
      "          0       0.99      1.00      0.99       146\n",
      "          1       0.00      0.00      0.00         2\n",
      "\n",
      "avg / total       0.97      0.99      0.98       148\n",
      "\n"
     ]
    },
    {
     "name": "stderr",
     "output_type": "stream",
     "text": [
      "C:\\Program Files\\Anaconda3\\lib\\site-packages\\sklearn\\metrics\\classification.py:1135: UndefinedMetricWarning: Precision and F-score are ill-defined and being set to 0.0 in labels with no predicted samples.\n",
      "  'precision', 'predicted', average, warn_for)\n"
     ]
    }
   ],
   "source": [
    "y_pred= rf.predict(X_test)\n",
    "print(classification_report(y_test, y_pred))"
   ]
  },
  {
   "cell_type": "code",
   "execution_count": 96,
   "metadata": {},
   "outputs": [
    {
     "name": "stdout",
     "output_type": "stream",
     "text": [
      "             precision    recall  f1-score   support\n",
      "\n",
      "          0       0.99      0.98      0.98       146\n",
      "          1       0.00      0.00      0.00         2\n",
      "\n",
      "avg / total       0.97      0.97      0.97       148\n",
      "\n"
     ]
    }
   ],
   "source": [
    "from sklearn import tree\n",
    "\n",
    "\n",
    "\n",
    "\n",
    "\n",
    "dt=tree.DecisionTreeClassifier()\n",
    "\n",
    "\n",
    "dt.fit(X_train,y_train)\n",
    "test = dt.predict(X_test)\n",
    "test_prob = dt.predict_proba(X_test)\n",
    "print(classification_report(y_test,test ))"
   ]
  },
  {
   "cell_type": "code",
   "execution_count": 97,
   "metadata": {},
   "outputs": [
    {
     "data": {
      "text/plain": [
       "array([ 0.91044776,  0.94029851,  0.93233083,  0.92481203,  0.94736842,\n",
       "        0.97744361,  0.96992481,  0.95488722,  0.96240602,  0.97727273])"
      ]
     },
     "execution_count": 97,
     "metadata": {},
     "output_type": "execute_result"
    }
   ],
   "source": [
    "cross_val_score(dt, X_train, y_train, cv=10)"
   ]
  },
  {
   "cell_type": "code",
   "execution_count": null,
   "metadata": {
    "collapsed": true
   },
   "outputs": [],
   "source": []
  }
 ],
 "metadata": {
  "kernelspec": {
   "display_name": "Python [default]",
   "language": "python",
   "name": "python3"
  },
  "language_info": {
   "codemirror_mode": {
    "name": "ipython",
    "version": 3
   },
   "file_extension": ".py",
   "mimetype": "text/x-python",
   "name": "python",
   "nbconvert_exporter": "python",
   "pygments_lexer": "ipython3",
   "version": "3.5.4"
  }
 },
 "nbformat": 4,
 "nbformat_minor": 2
}
