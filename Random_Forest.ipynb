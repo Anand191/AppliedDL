{
 "cells": [
  {
   "cell_type": "markdown",
   "metadata": {
    "collapsed": true
   },
   "source": [
    "# Random Forest Tutorial"
   ]
  },
  {
   "cell_type": "markdown",
   "metadata": {},
   "source": [
    "This notebook servers as an introduction to Random Forest which is a tree based ensemble learning algorithms. In this notebook I will cover the technical details behind random forest and it's suitability as a (supervised) anomaly detection tool."
   ]
  },
  {
   "cell_type": "markdown",
   "metadata": {},
   "source": [
    "## Decision Trees\n",
    "Given:<br/>\n",
    "$D = \\{(x_1, y_1), ...., (x_n, y_n)\\}$<br/>\n",
    "$h_k(x)$ is the $k_{th}$ decision tree and $h_k(x) = h(x | \\theta_k)$ where $\\theta_k = (\\theta_{k1}, \\theta_{k2},....\\theta_{kp})$ are the parameters of the decision tree which include the structure of the tree, which features are used at which node to create a new split, split value at a particular node etc. When used in ensembles, each decision tree works on a particular sub sample of the training data (sampled without replacement). This sampling parameter is encapsulated in the ensemble model parameter $\\Theta$.\n"
   ]
  },
  {
   "cell_type": "markdown",
   "metadata": {},
   "source": [
    "## Random Forest\n",
    "\n",
    "It is simply an ensemble of many such trees and calculates the final class value for a given sample by majority vote.\n",
    "\\begin{equation}\n",
    "\\therefore f(x) = Mode\\{h_k(x)\\}\n",
    "\\end{equation}\n",
    "\n",
    "Each tree is grown as follows:\n",
    "\n",
    "* If the number of cases in the training set is N, sample N cases at random - but with replacement, from the original data. This sample will be the training set for growing the tree. \n",
    "* If there are M input features, a number m<<M is specified such that at each node, m features are selected at random out of the M and the best split on these m is used to split the node. The value of m is held constant during the forest growing.\n",
    "* Each tree is grown to the largest extent possible. There is no pruning.\n",
    "* The unbiased error estimate is obtained as the *out-of-bag (oob) error estimate*.About 1/3rd of samples from the training dataset are left out when growing a tree. After the tree is fully grown then class estimate for every sample that is *oob* is obtained by majority vote and this prediction is then compared to the label.\n",
    "\n",
    "In the original paper on random forests, it was shown that the forest error rate depends on two things:\n",
    "\n",
    "* The *correlation* between any two trees in the forest. Increasing the correlation increases the forest error rate.\n",
    "* The *strength* of each individual tree in the forest. A tree with a low error rate is a strong classifier. Increasing the strength of the individual trees decreases the forest error rate."
   ]
  },
  {
   "cell_type": "code",
   "execution_count": 43,
   "metadata": {},
   "outputs": [],
   "source": [
    "%matplotlib inline\n",
    "import seaborn as sns\n",
    "import pandas as pd\n",
    "import numpy as np\n",
    "import datetime\n",
    "import matplotlib.pyplot as plt\n",
    "from sklearn.model_selection import train_test_split\n",
    "from sklearn.ensemble import RandomForestClassifier\n",
    "from sklearn.metrics import classification_report, accuracy_score, zero_one_loss\n",
    "from resources.utils import conf_matrix, read_mat\n",
    "\n",
    "# default plot settings\n",
    "plt.rcParams['figure.figsize'] = [16, 14]\n",
    "plt.rcParams['axes.facecolor'] = 'turquoise'\n",
    "plt.rcParams['axes.titlepad'] = 15.0\n",
    "rng = np.random.RandomState(42)"
   ]
  },
  {
   "cell_type": "code",
   "execution_count": 44,
   "metadata": {},
   "outputs": [
    {
     "data": {
      "image/png": "[encoded data removed]",
      "text/plain": [
       "<Figure size 288x72 with 1 Axes>"
      ]
     },
     "metadata": {
      "needs_background": "light"
     },
     "output_type": "display_data"
    }
   ],
   "source": [
    "customPalette = ['#630C3A', '#39C8C6', '#D3500C', '#FFB139']\n",
    "sns.set_palette(customPalette)\n",
    "sns.palplot(customPalette)\n",
    "def plot_data(dframe,x='x', y='y',col='label'):\n",
    "    sns.lmplot(data=dframe, x=x, y=y, col=col, \n",
    "                   fit_reg=False, legend=True, legend_out=True)"
   ]
  },
  {
   "cell_type": "code",
   "execution_count": 45,
   "metadata": {},
   "outputs": [],
   "source": [
    "def plot_prep(data_splits, model, actual_inlier, model_inlier, model_name=\"model\"):\n",
    "    X_test, y_test = data_splits\n",
    "    y_pred = model.predict(X_test)    \n",
    "    y_test_new = []\n",
    "    for yt in y_test.tolist():\n",
    "        if yt==actual_inlier:\n",
    "            y_test_new.append('Good')\n",
    "        else:\n",
    "            y_test_new.append('Bad')\n",
    "            \n",
    "    y_pred_new = []\n",
    "    for yt in y_pred.tolist():\n",
    "        if yt==model_inlier:\n",
    "            y_pred_new.append('Good')\n",
    "        else:\n",
    "            y_pred_new.append('Bad')\n",
    "        \n",
    "    data = np.stack((X_test[:, 2], X_test[:,1], y_test_new, y_pred_new)).T\n",
    "    new_df = pd.DataFrame(data, columns=['x', 'y', '{}.actual'.format(model_name), '{}.predicted'.format(model_name)])\n",
    "    new_df['x'] = new_df['x'].astype('float')\n",
    "    new_df['y'] = new_df['y'].astype('float')\n",
    "    return (new_df, 'x', 'y', ('{}.actual'.format(model_name), '{}.predicted'.format(model_name)))"
   ]
  },
  {
   "cell_type": "code",
   "execution_count": 46,
   "metadata": {},
   "outputs": [],
   "source": [
    "def conf_prep(df, model_name):\n",
    "    y_act = df['{}.actual'.format(model_name)].values.tolist()\n",
    "    y_pred = df['{}.predicted'.format(model_name)].values.tolist()\n",
    "    \n",
    "    y_act = [0 if x=='Good' else 1 for x in y_act]\n",
    "    y_pred = [0 if x=='Good' else 1 for x in y_pred]\n",
    "    return (y_act, y_pred, [0,1])"
   ]
  },
  {
   "cell_type": "code",
   "execution_count": 47,
   "metadata": {},
   "outputs": [
    {
     "data": {
      "text/html": [
       "<div>\n",
       "<style scoped>\n",
       "    .dataframe tbody tr th:only-of-type {\n",
       "        vertical-align: middle;\n",
       "    }\n",
       "\n",
       "    .dataframe tbody tr th {\n",
       "        vertical-align: top;\n",
       "    }\n",
       "\n",
       "    .dataframe thead th {\n",
       "        text-align: right;\n",
       "    }\n",
       "</style>\n",
       "<table border=\"1\" class=\"dataframe\">\n",
       "  <thead>\n",
       "    <tr style=\"text-align: right;\">\n",
       "      <th></th>\n",
       "      <th>feat-1</th>\n",
       "      <th>feat-2</th>\n",
       "      <th>feat-3</th>\n",
       "      <th>feat-4</th>\n",
       "      <th>feat-5</th>\n",
       "      <th>feat-6</th>\n",
       "      <th>label</th>\n",
       "    </tr>\n",
       "  </thead>\n",
       "  <tbody>\n",
       "    <tr>\n",
       "      <th>0</th>\n",
       "      <td>0.230020</td>\n",
       "      <td>5.072578</td>\n",
       "      <td>-0.276061</td>\n",
       "      <td>0.832444</td>\n",
       "      <td>-0.377866</td>\n",
       "      <td>0.480322</td>\n",
       "      <td>0</td>\n",
       "    </tr>\n",
       "    <tr>\n",
       "      <th>1</th>\n",
       "      <td>0.155491</td>\n",
       "      <td>-0.169390</td>\n",
       "      <td>0.670652</td>\n",
       "      <td>-0.859553</td>\n",
       "      <td>-0.377866</td>\n",
       "      <td>-0.945723</td>\n",
       "      <td>0</td>\n",
       "    </tr>\n",
       "    <tr>\n",
       "      <th>2</th>\n",
       "      <td>-0.784415</td>\n",
       "      <td>-0.443654</td>\n",
       "      <td>5.674705</td>\n",
       "      <td>-0.859553</td>\n",
       "      <td>-0.377866</td>\n",
       "      <td>-0.945723</td>\n",
       "      <td>0</td>\n",
       "    </tr>\n",
       "    <tr>\n",
       "      <th>3</th>\n",
       "      <td>0.546088</td>\n",
       "      <td>0.131415</td>\n",
       "      <td>-0.456387</td>\n",
       "      <td>-0.859553</td>\n",
       "      <td>-0.377866</td>\n",
       "      <td>-0.945723</td>\n",
       "      <td>0</td>\n",
       "    </tr>\n",
       "    <tr>\n",
       "      <th>4</th>\n",
       "      <td>-0.102987</td>\n",
       "      <td>-0.394994</td>\n",
       "      <td>-0.140816</td>\n",
       "      <td>0.979703</td>\n",
       "      <td>-0.377866</td>\n",
       "      <td>1.013566</td>\n",
       "      <td>0</td>\n",
       "    </tr>\n",
       "  </tbody>\n",
       "</table>\n",
       "</div>"
      ],
      "text/plain": [
       "     feat-1    feat-2    feat-3    feat-4    feat-5    feat-6  label\n",
       "0  0.230020  5.072578 -0.276061  0.832444 -0.377866  0.480322      0\n",
       "1  0.155491 -0.169390  0.670652 -0.859553 -0.377866 -0.945723      0\n",
       "2 -0.784415 -0.443654  5.674705 -0.859553 -0.377866 -0.945723      0\n",
       "3  0.546088  0.131415 -0.456387 -0.859553 -0.377866 -0.945723      0\n",
       "4 -0.102987 -0.394994 -0.140816  0.979703 -0.377866  1.013566      0"
      ]
     },
     "execution_count": 47,
     "metadata": {},
     "output_type": "execute_result"
    }
   ],
   "source": [
    "filepath = 'resources/anomaly_datasets/mammography.mat'\n",
    "df_mammography = read_mat(filepath)\n",
    "df_mammography.head()"
   ]
  },
  {
   "cell_type": "code",
   "execution_count": 50,
   "metadata": {},
   "outputs": [
    {
     "name": "stdout",
     "output_type": "stream",
     "text": [
      "Training Features Shape: (8946, 6)\n",
      "Training Labels Shape: (8946,)\n",
      "Testing Features Shape: (2237, 6)\n",
      "Testing Labels Shape: (2237,)\n"
     ]
    },
    {
     "data": {
      "text/plain": [
       "RandomForestClassifier(bootstrap=True, class_weight='balanced',\n",
       "            criterion='gini', max_depth=None, max_features=1.0,\n",
       "            max_leaf_nodes=None, min_impurity_decrease=0.0,\n",
       "            min_impurity_split=None, min_samples_leaf=1,\n",
       "            min_samples_split=2, min_weight_fraction_leaf=0.0,\n",
       "            n_estimators=1000, n_jobs=-1, oob_score=False,\n",
       "            random_state=<mtrand.RandomState object at 0x7fcf9c9b6b88>,\n",
       "            verbose=0, warm_start=False)"
      ]
     },
     "execution_count": 50,
     "metadata": {},
     "output_type": "execute_result"
    }
   ],
   "source": [
    "Data = df_mammography.iloc[:,0:df_mammography.shape[1]-1].values\n",
    "Target = df_mammography['label'].values\n",
    "X_train, X_test, y_train, y_test = train_test_split(Data, Target, test_size=0.2, random_state=rng, stratify=Target)\n",
    "print('Training Features Shape:', X_train.shape)\n",
    "print('Training Labels Shape:', y_train.shape)\n",
    "print('Testing Features Shape:', X_test.shape)\n",
    "print('Testing Labels Shape:', y_test.shape)\n",
    "\n",
    "#criterion = measure the quality of a split, a good split will lead to better class division among samples.\n",
    "\n",
    "#A split point at any depth will only be considered if it leaves at least min_samples_leaf training samples \n",
    "#in each of the left and right branches.\n",
    "\n",
    "#max_features = no. of features to consider when looking for the best split. When \"auto\", max_features = sqrt(num_features)\n",
    "\n",
    "rfc = RandomForestClassifier(n_estimators=1000, random_state=rng, max_features=1.,\n",
    "                                 class_weight='balanced', n_jobs=-1)\n",
    "\n",
    "rfc.fit(X_train,y_train)"
   ]
  },
  {
   "cell_type": "code",
   "execution_count": 51,
   "metadata": {},
   "outputs": [
    {
     "data": {
      "image/png": "[encoded data removed]",
      "text/plain": [
       "<Figure size 720x360 with 2 Axes>"
      ]
     },
     "metadata": {
      "needs_background": "light"
     },
     "output_type": "display_data"
    },
    {
     "data": {
      "image/png": "[encoded data removed]",
      "text/plain": [
       "<Figure size 720x360 with 2 Axes>"
      ]
     },
     "metadata": {
      "needs_background": "light"
     },
     "output_type": "display_data"
    }
   ],
   "source": [
    "df1_rf, plot_x, plot_y, cols = plot_prep((X_test, y_test),rfc, 0, 0, \"rforest\")\n",
    "plot_data(df1_rf, x=plot_x, y=plot_y, col=cols[0])\n",
    "plot_data(df1_rf, x=plot_x, y=plot_y, col=cols[1])"
   ]
  },
  {
   "cell_type": "code",
   "execution_count": 52,
   "metadata": {},
   "outputs": [
    {
     "data": {
      "image/png": "[encoded data removed]",
      "text/plain": [
       "<Figure size 864x720 with 1 Axes>"
      ]
     },
     "metadata": {
      "needs_background": "light"
     },
     "output_type": "display_data"
    }
   ],
   "source": [
    "test1_rf, pred1_rf, labels1_ref = conf_prep(df1_rf, \"rforest\")\n",
    "fig = plt.figure(figsize=(12,10))\n",
    "conf_matrix(test1_rf, pred1_rf, fig, labels= labels1_ref, model_name=\"Random Forest\", z=1)\n",
    "plt.show()"
   ]
  },
  {
   "cell_type": "code",
   "execution_count": 53,
   "metadata": {},
   "outputs": [
    {
     "name": "stdout",
     "output_type": "stream",
     "text": [
      "              precision    recall  f1-score   support\n",
      "\n",
      "     Regular       0.99      1.00      0.99      2185\n",
      "     Anomaly       0.83      0.48      0.61        52\n",
      "\n",
      "   micro avg       0.99      0.99      0.99      2237\n",
      "   macro avg       0.91      0.74      0.80      2237\n",
      "weighted avg       0.98      0.99      0.98      2237\n",
      "\n",
      "accuracy of classification = 98.56951274027715%\n",
      "misclassification rate = 1.4304872597228457%\n"
     ]
    }
   ],
   "source": [
    "print(classification_report(test1_rf, pred1_rf, target_names=['Regular', 'Anomaly']))\n",
    "print(\"accuracy of classification = {}%\".format(accuracy_score(test1_rf, pred1_rf)*100))\n",
    "print(\"misclassification rate = {}%\".format(zero_one_loss(test1_rf, pred1_rf)*100))"
   ]
  },
  {
   "cell_type": "markdown",
   "metadata": {},
   "source": [
    "### Salient Features of Random Forests:\n",
    "\n",
    "* Overcome the overfitting problem of decision trees by sampling both the data and features.\n",
    "* It can handle thousands of input variables without variable deletion.\n",
    "* It gives estimates of what variables are important in the classification.\n",
    "* It has methods for balancing error in class population unbalanced data sets.\n",
    "* The capabilities of the above can be extended to unlabeled data, leading to unsupervised clustering, data views and outlier detection."
   ]
  },
  {
   "cell_type": "code",
   "execution_count": null,
   "metadata": {},
   "outputs": [],
   "source": []
  }
 ],
 "metadata": {
  "kernelspec": {
   "display_name": "Python 3",
   "language": "python",
   "name": "python3"
  },
  "language_info": {
   "codemirror_mode": {
    "name": "ipython",
    "version": 3
   },
   "file_extension": ".py",
   "mimetype": "text/x-python",
   "name": "python",
   "nbconvert_exporter": "python",
   "pygments_lexer": "ipython3",
   "version": "3.6.6"
  }
 },
 "nbformat": 4,
 "nbformat_minor": 1
}
