{
 "cells": [
  {
   "cell_type": "markdown",
   "metadata": {
    "collapsed": true
   },
   "source": [
    "# Numenta Anomaly Benchmark"
   ]
  },
  {
   "cell_type": "code",
   "execution_count": 17,
   "metadata": {},
   "outputs": [],
   "source": [
    "from nab_dataset import add_labels\n",
    "import os\n",
    "import json\n",
    "import pandas as pd"
   ]
  },
  {
   "cell_type": "code",
   "execution_count": 18,
   "metadata": {},
   "outputs": [],
   "source": [
    "data_files = os.listdir('./resources/Numenta/data/realAdExchange')\n",
    "file_paths = [os.path.join('./resources/Numenta/data/realAdExchange',f) for f in data_files]\n",
    "label_path = './resources/Numenta/labels/combined_labels.json'\n",
    "with open(label_path) as f:\n",
    "    json_labels = json.load(f)"
   ]
  },
  {
   "cell_type": "code",
   "execution_count": 20,
   "metadata": {},
   "outputs": [],
   "source": [
    "columns = ['timestamp', 'value', 'anomaly']\n",
    "destination = './resources/Numenta/cleaned_data'\n",
    "process_data = add_labels(file_paths, label_path, 'csv')\n",
    "all_dataframes = process_data.process()\n",
    "for i, df in enumerate(all_dataframes):\n",
    "    # print(data_files[i])\n",
    "    # print(json_labels['realAdExchange'+'/'+data_files[i]])\n",
    "    # print(df.loc[df['anomaly'] == 1])\n",
    "    df.to_csv(os.path.join(destination, \"{}.csv\".format(data_files[i])), sep=',', index_label=None, columns=columns)"
   ]
  },
  {
   "cell_type": "code",
   "execution_count": null,
   "metadata": {},
   "outputs": [],
   "source": [
    "\n"
   ]
  }
 ],
 "metadata": {
  "kernelspec": {
   "display_name": "Python 2",
   "language": "python",
   "name": "python2"
  },
  "language_info": {
   "codemirror_mode": {
    "name": "ipython",
    "version": 2
   },
   "file_extension": ".py",
   "mimetype": "text/x-python",
   "name": "python",
   "nbconvert_exporter": "python",
   "pygments_lexer": "ipython2",
   "version": "2.7.6"
  }
 },
 "nbformat": 4,
 "nbformat_minor": 0
}
