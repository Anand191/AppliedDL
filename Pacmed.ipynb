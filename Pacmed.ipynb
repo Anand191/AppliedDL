{
 "cells": [
  {
   "cell_type": "code",
   "execution_count": 9,
   "metadata": {
    "collapsed": true
   },
   "outputs": [],
   "source": [
    "import pandas as pd\n",
    "import numpy as np\n",
    "import datetime"
   ]
  },
  {
   "cell_type": "code",
   "execution_count": 10,
   "metadata": {},
   "outputs": [],
   "source": [
    "path = 'resources/pacemed/'\n",
    "\n",
    "df1 = pd.read_csv(path+'age.csv', index_col=None, sep=';')\n",
    "df2 = pd.read_csv(path+'admission.csv', index_col=None, sep=';')\n",
    "df3 = pd.read_csv(path+'signal.csv', index_col=None, sep=';')\n",
    "\n",
    "df1.drop(['Unnamed: 0'], axis=1, inplace=True)\n",
    "df2.drop(['Unnamed: 0'], axis=1, inplace=True)\n",
    "df3.drop(['Unnamed: 0', 'Unnamed: 0.1'], axis=1, inplace=True)\n"
   ]
  },
  {
   "cell_type": "code",
   "execution_count": null,
   "metadata": {},
   "outputs": [],
   "source": [
    "df2['date_admission'] = df2['date_admission'].astype('datetime64')\n",
    "df2['date_discharge']= df2['date_discharge'].astype('datetime64')\n",
    "df_admission = df2.groupby('pat_id')['date_admission'].agg('count').to_frame('Count').reset_index()\n",
    "\n",
    "df_admission = pd.merge(df2, df_admission, on='pat_id', how='left')\n",
    "df_admission = pd.merge(df_admission, df1, on='pat_id', how='left')\n",
    "df_admission['days_ICU'] = (df_admission['date_discharge']-df_admission['date_admission']).astype('timedelta64[D]')\n",
    "\n",
    "primary_key = df_admission['pat_id'].astype('str') +'-' + df_admission['date_admission'].astype('str')\n",
    "df_admission.insert(loc=0, column='primary_key', value=primary_key)\n",
    "df_admission['bad_discharge'] = [0]*df_admission.shape[0]\n"
   ]
  },
  {
   "cell_type": "code",
   "execution_count": 12,
   "metadata": {},
   "outputs": [],
   "source": [
    "for pat in np.unique(df_admission['pat_id']):\n",
    "    source_rows = df_admission.index[df_admission['pat_id']==pat].tolist()\n",
    "    if(len(source_rows)>1):\n",
    "        for i in range(0, len(source_rows)):\n",
    "            if (i != len(source_rows)-1):\n",
    "                if((df_admission['date_admission'].iloc[source_rows[i+1]] - df_admission['date_discharge'].iloc[source_rows[i]]).days < 60):\n",
    "                    df_admission['bad_discharge'].iloc[source_rows[i]] = 1\n",
    "df3['day'] = df3['day'].astype('datetime64')\n",
    "df3.insert(loc=0, column='primary_key', value=['']*df3.shape[0])"
   ]
  },
  {
   "cell_type": "code",
   "execution_count": 13,
   "metadata": {},
   "outputs": [],
   "source": [
    "for pat in np.unique(df_admission['pat_id']):\n",
    "    source_rows = df_admission.index[df_admission['pat_id']==pat].tolist()\n",
    "    for i in range(len(source_rows)):\n",
    "        tgt_rows = df3.index[(df3['pat_id']==pat) & \\\n",
    "                   (df_admission['date_admission'].iloc[source_rows[i]] <= df3['day']) & \\\n",
    "                             (df3['day']<= df_admission['date_discharge'].iloc[source_rows[i]])].tolist()\n",
    "        df3['primary_key'].iloc[tgt_rows] = [df_admission['primary_key'].iloc[source_rows[i]]]*len(tgt_rows)"
   ]
  },
  {
   "cell_type": "code",
   "execution_count": 14,
   "metadata": {},
   "outputs": [
    {
     "name": "stdout",
     "output_type": "stream",
     "text": [
      "1567\n1569\n1492\n1495\n"
     ]
    }
   ],
   "source": [
    "a = list(set(np.unique(df_admission['primary_key']).tolist()) & set(np.unique(df3['primary_key']).tolist()))\n",
    "len(a)\n",
    "print(len(np.unique(df3['primary_key']).tolist()))\n",
    "print(len(np.unique(df_admission['primary_key']).tolist()))\n",
    "\n",
    "print(len(np.unique(df3['pat_id']).tolist()))\n",
    "print(len(np.unique(df_admission['pat_id']).tolist()))"
   ]
  },
  {
   "cell_type": "code",
   "execution_count": 15,
   "metadata": {},
   "outputs": [],
   "source": [
    "df_admission.to_csv(path+'test_admission.csv', sep=',',index=None)\n",
    "df3.to_csv(path+'test_signal.csv', sep=',', index=None)"
   ]
  },
  {
   "cell_type": "code",
   "execution_count": 28,
   "metadata": {},
   "outputs": [
    {
     "data": {
      "text/html": [
       "<div>\n",
       "<style scoped>\n",
       "    .dataframe tbody tr th:only-of-type {\n",
       "        vertical-align: middle;\n",
       "    }\n",
       "\n",
       "    .dataframe tbody tr th {\n",
       "        vertical-align: top;\n",
       "    }\n",
       "\n",
       "    .dataframe thead th {\n",
       "        text-align: right;\n",
       "    }\n",
       "</style>\n",
       "<table border=\"1\" class=\"dataframe\">\n",
       "  <thead>\n",
       "    <tr style=\"text-align: right;\">\n",
       "      <th></th>\n",
       "      <th>primary_key</th>\n",
       "      <th>blood_pressure</th>\n",
       "      <th>respiration_rate</th>\n",
       "      <th>temperature</th>\n",
       "      <th>age</th>\n",
       "      <th>days_ICU</th>\n",
       "      <th>bad_discharge</th>\n",
       "    </tr>\n",
       "  </thead>\n",
       "  <tbody>\n",
       "    <tr>\n",
       "      <th>0</th>\n",
       "      <td></td>\n",
       "      <td>NaN</td>\n",
       "      <td>NaN</td>\n",
       "      <td>36.923079</td>\n",
       "      <td>NaN</td>\n",
       "      <td>NaN</td>\n",
       "      <td>NaN</td>\n",
       "    </tr>\n",
       "    <tr>\n",
       "      <th>1</th>\n",
       "      <td>0-2016-01-05</td>\n",
       "      <td>133.367285</td>\n",
       "      <td>3.331333</td>\n",
       "      <td>35.746152</td>\n",
       "      <td>35.0</td>\n",
       "      <td>2.0</td>\n",
       "      <td>0.0</td>\n",
       "    </tr>\n",
       "    <tr>\n",
       "      <th>2</th>\n",
       "      <td>1-2014-07-04</td>\n",
       "      <td>127.878761</td>\n",
       "      <td>5.333333</td>\n",
       "      <td>37.133845</td>\n",
       "      <td>77.0</td>\n",
       "      <td>2.0</td>\n",
       "      <td>0.0</td>\n",
       "    </tr>\n",
       "    <tr>\n",
       "      <th>3</th>\n",
       "      <td>10-2015-07-02</td>\n",
       "      <td>109.261078</td>\n",
       "      <td>5.775556</td>\n",
       "      <td>37.405126</td>\n",
       "      <td>50.0</td>\n",
       "      <td>3.0</td>\n",
       "      <td>0.0</td>\n",
       "    </tr>\n",
       "    <tr>\n",
       "      <th>4</th>\n",
       "      <td>100-2014-06-28</td>\n",
       "      <td>128.925084</td>\n",
       "      <td>6.390000</td>\n",
       "      <td>36.293589</td>\n",
       "      <td>41.0</td>\n",
       "      <td>1.0</td>\n",
       "      <td>0.0</td>\n",
       "    </tr>\n",
       "  </tbody>\n",
       "</table>\n",
       "</div>"
      ],
      "text/plain": [
       "<div>\n",
       "<style scoped>\n",
       "    .dataframe tbody tr th:only-of-type {\n",
       "        vertical-align: middle;\n",
       "    }\n",
       "\n",
       "    .dataframe tbody tr th {\n",
       "        vertical-align: top;\n",
       "    }\n",
       "\n",
       "    .dataframe thead th {\n",
       "        text-align: right;\n",
       "    }\n",
       "</style>\n",
       "<table border=\"1\" class=\"dataframe\">\n",
       "  <thead>\n",
       "    <tr style=\"text-align: right;\">\n",
       "      <th></th>\n",
       "      <th>primary_key</th>\n",
       "      <th>blood_pressure</th>\n",
       "      <th>respiration_rate</th>\n",
       "      <th>temperature</th>\n",
       "      <th>age</th>\n",
       "      <th>days_ICU</th>\n",
       "      <th>bad_discharge</th>\n",
       "    </tr>\n",
       "  </thead>\n",
       "  <tbody>\n",
       "    <tr>\n",
       "      <th>0</th>\n",
       "      <td></td>\n",
       "      <td>NaN</td>\n",
       "      <td>NaN</td>\n",
       "      <td>36.923079</td>\n",
       "      <td>NaN</td>\n",
       "      <td>NaN</td>\n",
       "      <td>NaN</td>\n",
       "    </tr>\n",
       "    <tr>\n",
       "      <th>1</th>\n",
       "      <td>0-2016-01-05</td>\n",
       "      <td>133.367285</td>\n",
       "      <td>3.331333</td>\n",
       "      <td>35.746152</td>\n",
       "      <td>35.0</td>\n",
       "      <td>2.0</td>\n",
       "      <td>0.0</td>\n",
       "    </tr>\n",
       "    <tr>\n",
       "      <th>2</th>\n",
       "      <td>1-2014-07-04</td>\n",
       "      <td>127.878761</td>\n",
       "      <td>5.333333</td>\n",
       "      <td>37.133845</td>\n",
       "      <td>77.0</td>\n",
       "      <td>2.0</td>\n",
       "      <td>0.0</td>\n",
       "    </tr>\n",
       "    <tr>\n",
       "      <th>3</th>\n",
       "      <td>10-2015-07-02</td>\n",
       "      <td>109.261078</td>\n",
       "      <td>5.775556</td>\n",
       "      <td>37.405126</td>\n",
       "      <td>50.0</td>\n",
       "      <td>3.0</td>\n",
       "      <td>0.0</td>\n",
       "    </tr>\n",
       "    <tr>\n",
       "      <th>4</th>\n",
       "      <td>100-2014-06-28</td>\n",
       "      <td>128.925084</td>\n",
       "      <td>6.390000</td>\n",
       "      <td>36.293589</td>\n",
       "      <td>41.0</td>\n",
       "      <td>1.0</td>\n",
       "      <td>0.0</td>\n",
       "    </tr>\n",
       "  </tbody>\n",
       "</table>\n",
       "</div>"
      ]
     },
     "execution_count": 28,
     "metadata": {},
     "output_type": "execute_result"
    }
   ],
   "source": [
    "df_signal = df3.groupby(['primary_key', 'parameter']).mean()['value']\n",
    "df_signal = df_signal.unstack().reset_index()\n",
    "df_signal.columns.name = None\n",
    "df_semifinal = df_signal.merge(df_admission[['primary_key', 'age', 'days_ICU', 'bad_discharge']], on='primary_key', how='left')\n",
    "df_semifinal.to_csv(path+\"collated.csv\", sep=',', index=None)\n",
    "df_semifinal.head()"
   ]
  },
  {
   "cell_type": "code",
   "execution_count": 29,
   "metadata": {},
   "outputs": [
    {
     "data": {
      "text/plain": [
       "(1399, 7)"
      ]
     },
     "execution_count": 29,
     "metadata": {},
     "output_type": "execute_result"
    }
   ],
   "source": [
    "df_final = df_semifinal.dropna(subset=['blood_pressure','respiration_rate', 'age', 'days_ICU', 'bad_discharge'])\n",
    "df_final = df_final.fillna(value=df_final['temperature'].mean())\n",
    "df_final.shape\n",
    "\n"
   ]
  },
  {
   "cell_type": "code",
   "execution_count": 30,
   "metadata": {},
   "outputs": [],
   "source": [
    "df_final.to_csv(path+'cleaned.csv',sep=',', index=None)"
   ]
  },
  {
   "cell_type": "code",
   "execution_count": null,
   "metadata": {},
   "outputs": [],
   "source": []
  }
 ],
 "metadata": {
  "kernelspec": {
   "display_name": "Python 2",
   "language": "python",
   "name": "python2"
  },
  "language_info": {
   "codemirror_mode": {
    "name": "ipython",
    "version": 2
   },
   "file_extension": ".py",
   "mimetype": "text/x-python",
   "name": "python",
   "nbconvert_exporter": "python",
   "pygments_lexer": "ipython2",
   "version": "2.7.6"
  }
 },
 "nbformat": 4,
 "nbformat_minor": 0
}
